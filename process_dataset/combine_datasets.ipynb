{
 "cells": [
  {
   "cell_type": "markdown",
   "metadata": {},
   "source": [
    "# Combine datasets to a single dataset in a pickle file"
   ]
  },
  {
   "cell_type": "markdown",
   "metadata": {},
   "source": [
    "## Output format\n",
    "\n",
    "```py\n",
    "{\n",
    "    \"train\": [\n",
    "        {\n",
    "            # Note: no ID needed as the index can serve as an ID\n",
    "            dataset_name: \"dataset_name\",\n",
    "            filename: \"dataset_name/images/0001.jpg\",\n",
    "            width: 1280,\n",
    "            height: 720,\n",
    "            bboxes: ndarray([x1, y1, x2, y2], ...),\n",
    "            labels: array(1, ...)\n",
    "            },\n",
    "           ...\n",
    "    ],\n",
    "    \"val\": [...],\n",
    "    \"test\": [...],\n",
    "    \"datasets\": [\n",
    "        {\n",
    "            \"name\": \"dataset_name\",\n",
    "            \"rel_path\": \"dataset_name\"\n",
    "            },\n",
    "        ..\n",
    "    ]\n",
    "```"
   ]
  },
  {
   "cell_type": "markdown",
   "metadata": {},
   "source": [
    "### Import required libraries"
   ]
  },
  {
   "cell_type": "code",
   "execution_count": 12,
   "metadata": {},
   "outputs": [],
   "source": [
    "import os\n",
    "import pickle\n",
    "import random\n",
    "\n",
    "import common"
   ]
  },
  {
   "cell_type": "markdown",
   "metadata": {},
   "source": [
    "### Settings"
   ]
  },
  {
   "cell_type": "code",
   "execution_count": 13,
   "metadata": {},
   "outputs": [],
   "source": [
    "# Provide data split values for train, val, and testing data as percentage / 100\n",
    "data_distribution = {\n",
    "    \"train\": 0.6,\n",
    "    \"val\": 0.2,\n",
    "    \"test\": 0.2\n",
    "}\n",
    "# Make sure it sums up to 1...\n",
    "assert sum(data_distribution[key] for key in data_distribution.keys()) == 1\n",
    "\n",
    "# Select if you want your splits to be continuous vs random\n",
    "# Eg. of continuous: train will contain 0.jpg, 1.jpg, 2.jpg, ...\n",
    "random_data_distribution = True\n",
    "\n",
    "# Set random seed\n",
    "random.seed(42)\n",
    "\n",
    "data = []"
   ]
  },
  {
   "cell_type": "markdown",
   "metadata": {},
   "source": [
    "# Combine the datasets"
   ]
  },
  {
   "cell_type": "code",
   "execution_count": 14,
   "metadata": {},
   "outputs": [],
   "source": [
    "dataset = {\n",
    "    \"datasets\": [],\n",
    "    \"train\": [],\n",
    "    \"val\": [],\n",
    "    \"test\": []\n",
    "}"
   ]
  },
  {
   "cell_type": "code",
   "execution_count": 15,
   "metadata": {},
   "outputs": [
    {
     "name": "stdout",
     "output_type": "stream",
     "text": [
      "Reading mio-tcd\n",
      "Reading aau\n",
      "Reading ndis\n",
      "Reading mtid\n",
      "Read 113800 image annotations\n"
     ]
    }
   ],
   "source": [
    "for name in list(common.datasets.keys()):\n",
    "    print(f\"Reading {name}\")\n",
    "    pickle_filepath = os.path.join(common.datasets_path, common.datasets[name][\"path\"], \"gt.pickle\")\n",
    "    # imgs_path = common.datasets[name][\"images\"][\"path\"]\n",
    "\n",
    "    \n",
    "    # Open the dataset's pickle file and load and process data\n",
    "    with open(pickle_filepath, \"rb\") as f:\n",
    "        data += pickle.load(f)\n",
    "\n",
    "        # Randomly reorder images if desired\n",
    "        if random_data_distribution:\n",
    "            random.shuffle(data)\n",
    "        \n",
    "        # Set dataset_name and update filename (relative filepath)\n",
    "        # filename needs to be updated to be relative to the datasets folder\n",
    "        for img in data:\n",
    "            img[\"dataset_name\"] = name\n",
    "            # img[\"filename\"] = os.path.join(imgs_path, img[\"filename\"])\n",
    "\n",
    "        # Split data into train/val/test\n",
    "        data_len = len(data)\n",
    "        train_val_split_index = int(data_len * data_distribution[\"train\"])\n",
    "        val_test_split_index = int(data_len * (data_distribution[\"train\"] + data_distribution[\"val\"]))\n",
    "        dataset[\"train\"] = data[:train_val_split_index]\n",
    "        dataset[\"val\"] =   data[train_val_split_index:val_test_split_index]\n",
    "        dataset[\"test\"] =  data[val_test_split_index:]\n",
    "\n",
    "        dataset[\"datasets\"].append({\n",
    "            \"name\": name,\n",
    "            \"rel_dataset_path\": common.datasets[name][\"path\"]\n",
    "        })\n",
    "\n",
    "print(f\"Read {len(data)} image annotations\")"
   ]
  },
  {
   "cell_type": "code",
   "execution_count": 16,
   "metadata": {},
   "outputs": [],
   "source": [
    "with open(common.dataset_pickle_filepath, 'wb') as f:\n",
    "    # pickle.dump(dataset, f, protocol=pickle.HIGHEST_PROTOCOL) # Best storage-wise\n",
    "    pickle.dump(dataset, f, protocol=0) # Said to be human-readable"
   ]
  }
 ],
 "metadata": {
  "kernelspec": {
   "display_name": "Python 3.10.0 64-bit",
   "language": "python",
   "name": "python3"
  },
  "language_info": {
   "codemirror_mode": {
    "name": "ipython",
    "version": 3
   },
   "file_extension": ".py",
   "mimetype": "text/x-python",
   "name": "python",
   "nbconvert_exporter": "python",
   "pygments_lexer": "ipython3",
   "version": "3.10.0"
  },
  "orig_nbformat": 4,
  "vscode": {
   "interpreter": {
    "hash": "7e1998ff7f8aa20ada591c520b972326324e5ea05489af9e422744c7c09f6dad"
   }
  }
 },
 "nbformat": 4,
 "nbformat_minor": 2
}
