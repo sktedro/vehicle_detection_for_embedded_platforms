{
  "cells": [
    {
      "cell_type": "markdown",
      "metadata": {
        "id": "-0X-xtqD_Pfh"
      },
      "source": [
        "# Brief\n",
        "\n",
        "# TODO\n",
        "\n",
        "At every boot, copy everything from google drive instead of third party websites. Then, after all work is done, automatically save everything to google drive. Don't forget NOT TO SAVE hundreds of thousands of small files, but archives (tar) instead"
      ]
    },
    {
      "cell_type": "code",
      "execution_count": null,
      "metadata": {},
      "outputs": [],
      "source": [
        "from google.colab import drive\n",
        "drive.mount('/drive')\n",
        "!mkdir -p /drive/MyDrive/vehicle_detection_and_classification\n",
        "!ls -la /drive/MyDrive/"
      ]
    },
    {
      "cell_type": "code",
      "execution_count": null,
      "metadata": {},
      "outputs": [],
      "source": [
        "!apt-get -q install tree\n",
        "\n",
        "%pip install seaborn\n",
        "\n",
        "# TODO needed?:\n",
        "%pip install torch==1.9.0+cu111 torchvision==0.10.0+cu111 -f https://download.pytorch.org/whl/torch_stable.html"
      ]
    },
    {
      "cell_type": "code",
      "execution_count": 1,
      "metadata": {
        "colab": {
          "base_uri": "https://localhost:8080/"
        },
        "id": "KPbCuq5wWL38",
        "outputId": "6f5aad38-9292-4381-a9ed-d9f9cdeab69b"
      },
      "outputs": [],
      "source": [
        "from pprint import pprint\n",
        "import numpy as np\n",
        "import cv2\n",
        "import csv\n",
        "import json\n",
        "import os\n",
        "import sys\n",
        "import shutil\n",
        "import pickle"
      ]
    },
    {
      "cell_type": "code",
      "execution_count": null,
      "metadata": {
        "colab": {
          "base_uri": "https://localhost:8080/"
        },
        "id": "hwfR63Ryv1y2",
        "outputId": "2565aac0-e2fd-4e65-e546-2273187453a3"
      },
      "outputs": [],
      "source": [
        "drive_path = \"/drive/MyDrive/\"\n",
        "drive_traffic_cams_path = os.path.join(drive_path, \"traffic_cams\")\n",
        "drive_local_proj_path = os.path.join(drive_path, \"tedros_laptop/Desktop/d_projekty/bp\")\n",
        "drive_proj_path = os.path.join(drive_path, \"vehicle_detection_and_classification\")\n",
        "drive_proj_datasets_path = os.path.join(drive_proj_path, \"datasets\")\n",
        "proj_path = \"/content/\"\n",
        "datasets_path = os.path.join(proj_path, \"datasets\")\n",
        "models_path = os.path.join(proj_path, \"models\")\n",
        "\n",
        "scripts_path = os.path.join(drive_proj_path, \"scripts\")\n",
        "working_path = os.path.join(drive_proj_path, \"working_dir\")\n",
        "\n",
        "!ls $drive_traffic_cams_path\n",
        "!echo =====\n",
        "!ls $drive_local_proj_path\n",
        "\n",
        "!mkdir -p $drive_proj_path\n",
        "!mkdir -p $proj_path\n",
        "!mkdir -p $datasets_path\n",
        "!mkdir -p $models_path\n",
        "!mkdir -p $working_path"
      ]
    },
    {
      "cell_type": "markdown",
      "metadata": {
        "id": "TZKyyKjlwm1V"
      },
      "source": [
        "# Define, download and process datasets"
      ]
    },
    {
      "cell_type": "code",
      "execution_count": null,
      "metadata": {
        "id": "1caEFm4TeNwK"
      },
      "outputs": [],
      "source": [
        "# TODO join car and trailer to car_and_trailer\n",
        "classes = [\n",
        "    \"pedestrian\", \n",
        "    \"bicycle\", \n",
        "    \"motorcycle\", \n",
        "    \"passenger_car\",\n",
        "    \"transporter\",\n",
        "    \"bus\",\n",
        "    \"truck\",\n",
        "    \"unknown\"\n",
        "]\n",
        "classes_dict = {\n",
        "    0: \"pedestrian\",\n",
        "    1: \"bicycle\", \n",
        "    2: \"motorcycle\", \n",
        "    3: \"passenger_car\",\n",
        "    4: \"transporter\",\n",
        "    5: \"bus\",\n",
        "    6: \"truck\",\n",
        "    7: \"unknown\"\n",
        "}\n",
        "\n"
      ]
    },
    {
      "cell_type": "markdown",
      "metadata": {
        "id": "lJnGizJxX6Rd"
      },
      "source": [
        "## MIO-TCD\n",
        "\n",
        "- [https://tcd.miovision.com/challenge/dataset.html](https://tcd.miovision.com/challenge/dataset.html)\n",
        "- ~650k objects on ~130k frames (test data are not annotated, so just 110k usable frames)\n",
        "- Classes: Pedestrian + 9 vehicle classes + background"
      ]
    },
    {
      "cell_type": "code",
      "execution_count": null,
      "metadata": {
        "colab": {
          "base_uri": "https://localhost:8080/",
          "height": 35
        },
        "id": "cBatNivgwtwg",
        "outputId": "58048ca6-92c4-4824-b93f-2df8b2528ef2"
      },
      "outputs": [],
      "source": [
        "dataset_mio_tcd_name = \"MIO-TCD-Localization\"\n",
        "dataset_mio_tcd_path = os.path.join(datasets_path, dataset_mio_tcd_name)\n",
        "\n",
        "# Download directly from the server\n",
        "# !wget -c https://tcd.miovision.com/static/dataset/MIO-TCD-Localization.tar -P $datasets_path\n",
        "\n",
        "# Download to your google drive and then only download from the google drive\n",
        "# !wget -c https://tcd.miovision.com/static/dataset/MIO-TCD-Localization.tar -P $drive_proj_datasets_path\n",
        "src = os.path.join(drive_proj_datasets_path, dataset_mio_tcd_name + \".tar\")\n",
        "dst = os.path.join(datasets_path, dataset_mio_tcd_name + \".tar\")\n",
        "shutil.copy(src, dst)"
      ]
    },
    {
      "cell_type": "code",
      "execution_count": null,
      "metadata": {
        "colab": {
          "base_uri": "https://localhost:8080/"
        },
        "id": "PC2Fy6ecUxxf",
        "outputId": "6c38fa35-4dce-40d0-be1f-9c3f56cd4323"
      },
      "outputs": [],
      "source": [
        "# This takes hours on google drive due to their limits! So we do it on colab disk\n",
        "!tar -xf $datasets_path/MIO-TCD-Localization.tar -C $datasets_path\n",
        "\n",
        "!ls -la $dataset_mio_tcd_path"
      ]
    },
    {
      "cell_type": "code",
      "execution_count": null,
      "metadata": {},
      "outputs": [],
      "source": [
        "# This can take several minutes\n",
        "mio_tcd_process_script_path = os.path.join(scripts_path, \"process_dataset\", \"mio_tcd.py\")\n",
        "!python3 $mio_tcd_process_script_path"
      ]
    },
    {
      "cell_type": "markdown",
      "metadata": {},
      "source": [
        "### Combine datasets"
      ]
    },
    {
      "cell_type": "code",
      "execution_count": null,
      "metadata": {},
      "outputs": [],
      "source": [
        "combine_datasets_script_path = os.path.join(scripts_path, \"process_dataset\", \"combine_datasets.py\")"
      ]
    },
    {
      "cell_type": "markdown",
      "metadata": {
        "id": "KkjCldfKpI-O"
      },
      "source": [
        "# Installing mmdetection"
      ]
    },
    {
      "cell_type": "code",
      "execution_count": null,
      "metadata": {
        "colab": {
          "base_uri": "https://localhost:8080/"
        },
        "id": "SzbBwCKrpUQh",
        "outputId": "8f83fd26-9409-4ea9-e167-4a56efa7f260"
      },
      "outputs": [
        {
          "name": "stdout",
          "output_type": "stream",
          "text": [
            "/content/models\n",
            "Looking in indexes: https://pypi.org/simple, https://us-python.pkg.dev/colab-wheels/public/simple/\n",
            "Requirement already satisfied: openmim in /usr/local/lib/python3.7/dist-packages (0.3.3)\n",
            "Requirement already satisfied: pandas in /usr/local/lib/python3.7/dist-packages (from openmim) (1.3.5)\n",
            "Requirement already satisfied: Click in /usr/local/lib/python3.7/dist-packages (from openmim) (7.1.2)\n",
            "Requirement already satisfied: requests in /usr/local/lib/python3.7/dist-packages (from openmim) (2.23.0)\n",
            "Requirement already satisfied: rich in /usr/local/lib/python3.7/dist-packages (from openmim) (12.6.0)\n",
            "Requirement already satisfied: pip>=19.3 in /usr/local/lib/python3.7/dist-packages (from openmim) (21.1.3)\n",
            "Requirement already satisfied: colorama in /usr/local/lib/python3.7/dist-packages (from openmim) (0.4.6)\n",
            "Requirement already satisfied: tabulate in /usr/local/lib/python3.7/dist-packages (from openmim) (0.8.10)\n",
            "Requirement already satisfied: model-index in /usr/local/lib/python3.7/dist-packages (from openmim) (0.1.11)\n",
            "Requirement already satisfied: pyyaml in /usr/local/lib/python3.7/dist-packages (from model-index->openmim) (6.0)\n",
            "Requirement already satisfied: markdown in /usr/local/lib/python3.7/dist-packages (from model-index->openmim) (3.4.1)\n",
            "Requirement already satisfied: ordered-set in /usr/local/lib/python3.7/dist-packages (from model-index->openmim) (4.1.0)\n",
            "Requirement already satisfied: importlib-metadata>=4.4 in /usr/local/lib/python3.7/dist-packages (from markdown->model-index->openmim) (4.13.0)\n",
            "Requirement already satisfied: typing-extensions>=3.6.4 in /usr/local/lib/python3.7/dist-packages (from importlib-metadata>=4.4->markdown->model-index->openmim) (4.1.1)\n",
            "Requirement already satisfied: zipp>=0.5 in /usr/local/lib/python3.7/dist-packages (from importlib-metadata>=4.4->markdown->model-index->openmim) (3.10.0)\n",
            "Requirement already satisfied: pytz>=2017.3 in /usr/local/lib/python3.7/dist-packages (from pandas->openmim) (2022.6)\n",
            "Requirement already satisfied: python-dateutil>=2.7.3 in /usr/local/lib/python3.7/dist-packages (from pandas->openmim) (2.8.2)\n",
            "Requirement already satisfied: numpy>=1.17.3 in /usr/local/lib/python3.7/dist-packages (from pandas->openmim) (1.21.6)\n",
            "Requirement already satisfied: six>=1.5 in /usr/local/lib/python3.7/dist-packages (from python-dateutil>=2.7.3->pandas->openmim) (1.15.0)\n",
            "Requirement already satisfied: urllib3!=1.25.0,!=1.25.1,<1.26,>=1.21.1 in /usr/local/lib/python3.7/dist-packages (from requests->openmim) (1.24.3)\n",
            "Requirement already satisfied: idna<3,>=2.5 in /usr/local/lib/python3.7/dist-packages (from requests->openmim) (2.10)\n",
            "Requirement already satisfied: chardet<4,>=3.0.2 in /usr/local/lib/python3.7/dist-packages (from requests->openmim) (3.0.4)\n",
            "Requirement already satisfied: certifi>=2017.4.17 in /usr/local/lib/python3.7/dist-packages (from requests->openmim) (2022.9.24)\n",
            "Requirement already satisfied: commonmark<0.10.0,>=0.9.0 in /usr/local/lib/python3.7/dist-packages (from rich->openmim) (0.9.1)\n",
            "Requirement already satisfied: pygments<3.0.0,>=2.6.0 in /usr/local/lib/python3.7/dist-packages (from rich->openmim) (2.6.1)\n",
            "Looking in indexes: https://pypi.org/simple, https://us-python.pkg.dev/colab-wheels/public/simple/\n",
            "Looking in links: https://download.openmmlab.com/mmcv/dist/cu111/torch1.9.0/index.html\n",
            "Requirement already satisfied: mmcv-full in /usr/local/lib/python3.7/dist-packages (1.7.0)\n",
            "Requirement already satisfied: Pillow in /usr/local/lib/python3.7/dist-packages (from mmcv-full) (7.1.2)\n",
            "Requirement already satisfied: numpy in /usr/local/lib/python3.7/dist-packages (from mmcv-full) (1.21.6)\n",
            "Requirement already satisfied: addict in /usr/local/lib/python3.7/dist-packages (from mmcv-full) (2.4.0)\n",
            "Requirement already satisfied: packaging in /usr/local/lib/python3.7/dist-packages (from mmcv-full) (21.3)\n",
            "Requirement already satisfied: pyyaml in /usr/local/lib/python3.7/dist-packages (from mmcv-full) (6.0)\n",
            "Requirement already satisfied: opencv-python>=3 in /usr/local/lib/python3.7/dist-packages (from mmcv-full) (4.6.0.66)\n",
            "Requirement already satisfied: yapf in /usr/local/lib/python3.7/dist-packages (from mmcv-full) (0.32.0)\n",
            "Requirement already satisfied: pyparsing!=3.0.5,>=2.0.2 in /usr/local/lib/python3.7/dist-packages (from packaging->mmcv-full) (3.0.9)\n",
            "fatal: destination path 'mmdetection' already exists and is not an empty directory.\n",
            "/content/models/mmdetection\n",
            "Looking in indexes: https://pypi.org/simple, https://us-python.pkg.dev/colab-wheels/public/simple/\n",
            "Obtaining file:///content/models/mmdetection\n",
            "Requirement already satisfied: matplotlib in /usr/local/lib/python3.7/dist-packages (from mmdet==2.25.3) (3.2.2)\n",
            "Requirement already satisfied: numpy in /usr/local/lib/python3.7/dist-packages (from mmdet==2.25.3) (1.21.6)\n",
            "Requirement already satisfied: pycocotools in /usr/local/lib/python3.7/dist-packages (from mmdet==2.25.3) (2.0.6)\n",
            "Requirement already satisfied: six in /usr/local/lib/python3.7/dist-packages (from mmdet==2.25.3) (1.15.0)\n",
            "Requirement already satisfied: terminaltables in /usr/local/lib/python3.7/dist-packages (from mmdet==2.25.3) (3.1.10)\n",
            "Requirement already satisfied: cycler>=0.10 in /usr/local/lib/python3.7/dist-packages (from matplotlib->mmdet==2.25.3) (0.11.0)\n",
            "Requirement already satisfied: kiwisolver>=1.0.1 in /usr/local/lib/python3.7/dist-packages (from matplotlib->mmdet==2.25.3) (1.4.4)\n",
            "Requirement already satisfied: pyparsing!=2.0.4,!=2.1.2,!=2.1.6,>=2.0.1 in /usr/local/lib/python3.7/dist-packages (from matplotlib->mmdet==2.25.3) (3.0.9)\n",
            "Requirement already satisfied: python-dateutil>=2.1 in /usr/local/lib/python3.7/dist-packages (from matplotlib->mmdet==2.25.3) (2.8.2)\n",
            "Requirement already satisfied: typing-extensions in /usr/local/lib/python3.7/dist-packages (from kiwisolver>=1.0.1->matplotlib->mmdet==2.25.3) (4.1.1)\n",
            "Installing collected packages: mmdet\n",
            "  Attempting uninstall: mmdet\n",
            "    Found existing installation: mmdet 2.25.3\n",
            "    Can't uninstall 'mmdet'. No files were found to uninstall.\n",
            "  Running setup.py develop for mmdet\n",
            "Successfully installed mmdet-2.25.3\n"
          ]
        }
      ],
      "source": [
        "%cd $models_path\n",
        "!pip install openmim\n",
        "!mim install mmcv-full\n",
        "!git clone https://github.com/open-mmlab/mmdetection.git\n",
        "%cd mmdetection\n",
        "!pip install -e .\n",
        "models_mmdetection_path = os.path.join(models_path, \"mmdetection\")"
      ]
    },
    {
      "cell_type": "code",
      "execution_count": null,
      "metadata": {
        "colab": {
          "base_uri": "https://localhost:8080/"
        },
        "id": "eTcJbMQ6rfrY",
        "outputId": "116dfc55-23bf-4c06-e7a5-140a494ec630"
      },
      "outputs": [
        {
          "name": "stdout",
          "output_type": "stream",
          "text": [
            "2.25.3\n"
          ]
        },
        {
          "name": "stderr",
          "output_type": "stream",
          "text": [
            "/usr/local/lib/python3.7/dist-packages/mmcv/__init__.py:21: UserWarning: On January 1, 2023, MMCV will release v2.0.0, in which it will remove components related to the training process and add a data transformation module. In addition, it will rename the package names mmcv to mmcv-lite and mmcv-full to mmcv. See https://github.com/open-mmlab/mmcv/blob/master/docs/en/compatibility.md for more details.\n",
            "  'On January 1, 2023, MMCV will release v2.0.0, in which it will remove '\n"
          ]
        }
      ],
      "source": [
        "#@title Verify installation\n",
        "import mmdet\n",
        "print(mmdet.__version__)"
      ]
    },
    {
      "cell_type": "code",
      "execution_count": null,
      "metadata": {
        "colab": {
          "base_uri": "https://localhost:8080/"
        },
        "id": "N1vbw2orvzmF",
        "outputId": "c2ad7f29-47e0-48f1-d452-f6f1018215b3"
      },
      "outputs": [
        {
          "data": {
            "text/plain": [
              "{'sys.platform': 'linux',\n",
              " 'Python': '3.7.15 (default, Oct 12 2022, 19:14:55) [GCC 7.5.0]',\n",
              " 'CUDA available': True,\n",
              " 'GPU 0': 'Tesla T4',\n",
              " 'CUDA_HOME': '/usr/local/cuda',\n",
              " 'NVCC': 'Cuda compilation tools, release 11.2, V11.2.152',\n",
              " 'GCC': 'x86_64-linux-gnu-gcc (Ubuntu 7.5.0-3ubuntu1~18.04) 7.5.0',\n",
              " 'PyTorch': '1.9.0+cu111',\n",
              " 'PyTorch compiling details': 'PyTorch built with:\\n  - GCC 7.3\\n  - C++ Version: 201402\\n  - Intel(R) Math Kernel Library Version 2020.0.0 Product Build 20191122 for Intel(R) 64 architecture applications\\n  - Intel(R) MKL-DNN v2.1.2 (Git Hash 98be7e8afa711dc9b66c8ff3504129cb82013cdb)\\n  - OpenMP 201511 (a.k.a. OpenMP 4.5)\\n  - NNPACK is enabled\\n  - CPU capability usage: AVX2\\n  - CUDA Runtime 11.1\\n  - NVCC architecture flags: -gencode;arch=compute_37,code=sm_37;-gencode;arch=compute_50,code=sm_50;-gencode;arch=compute_60,code=sm_60;-gencode;arch=compute_70,code=sm_70;-gencode;arch=compute_75,code=sm_75;-gencode;arch=compute_80,code=sm_80;-gencode;arch=compute_86,code=sm_86\\n  - CuDNN 8.0.5\\n  - Magma 2.5.2\\n  - Build settings: BLAS_INFO=mkl, BUILD_TYPE=Release, CUDA_VERSION=11.1, CUDNN_VERSION=8.0.5, CXX_COMPILER=/opt/rh/devtoolset-7/root/usr/bin/c++, CXX_FLAGS= -Wno-deprecated -fvisibility-inlines-hidden -DUSE_PTHREADPOOL -fopenmp -DNDEBUG -DUSE_KINETO -DUSE_FBGEMM -DUSE_QNNPACK -DUSE_PYTORCH_QNNPACK -DUSE_XNNPACK -DSYMBOLICATE_MOBILE_DEBUG_HANDLE -O2 -fPIC -Wno-narrowing -Wall -Wextra -Werror=return-type -Wno-missing-field-initializers -Wno-type-limits -Wno-array-bounds -Wno-unknown-pragmas -Wno-sign-compare -Wno-unused-parameter -Wno-unused-variable -Wno-unused-function -Wno-unused-result -Wno-unused-local-typedefs -Wno-strict-overflow -Wno-strict-aliasing -Wno-error=deprecated-declarations -Wno-stringop-overflow -Wno-psabi -Wno-error=pedantic -Wno-error=redundant-decls -Wno-error=old-style-cast -fdiagnostics-color=always -faligned-new -Wno-unused-but-set-variable -Wno-maybe-uninitialized -fno-math-errno -fno-trapping-math -Werror=format -Wno-stringop-overflow, LAPACK_INFO=mkl, PERF_WITH_AVX=1, PERF_WITH_AVX2=1, PERF_WITH_AVX512=1, TORCH_VERSION=1.9.0, USE_CUDA=ON, USE_CUDNN=ON, USE_EXCEPTION_PTR=1, USE_GFLAGS=OFF, USE_GLOG=OFF, USE_MKL=ON, USE_MKLDNN=ON, USE_MPI=OFF, USE_NCCL=ON, USE_NNPACK=ON, USE_OPENMP=ON, \\n',\n",
              " 'TorchVision': '0.10.0+cu111',\n",
              " 'OpenCV': '4.6.0',\n",
              " 'MMCV': '1.7.0',\n",
              " 'MMCV Compiler': 'GCC 7.3',\n",
              " 'MMCV CUDA Compiler': '11.1'}"
            ]
          },
          "execution_count": 10,
          "metadata": {},
          "output_type": "execute_result"
        }
      ],
      "source": [
        "from mmcv import collect_env\n",
        "collect_env()"
      ]
    },
    {
      "cell_type": "markdown",
      "metadata": {
        "id": "YXZZKxllra7-"
      },
      "source": [
        "# Importing YOLOX-s"
      ]
    },
    {
      "cell_type": "code",
      "execution_count": null,
      "metadata": {
        "colab": {
          "base_uri": "https://localhost:8080/"
        },
        "id": "tmd-1lfprZKZ",
        "outputId": "a1a7c23d-742f-4d5f-e274-4d743494804a"
      },
      "outputs": [
        {
          "name": "stdout",
          "output_type": "stream",
          "text": [
            "--2022-11-15 16:58:36--  https://download.openmmlab.com/mmdetection/v2.0/yolox/yolox_l_8x8_300e_coco/yolox_l_8x8_300e_coco_20211126_140236-d3bd2b23.pth\n",
            "Resolving download.openmmlab.com (download.openmmlab.com)... 47.252.96.43\n",
            "Connecting to download.openmmlab.com (download.openmmlab.com)|47.252.96.43|:443... connected.\n",
            "HTTP request sent, awaiting response... 200 OK\n",
            "Length: 217289556 (207M) [application/octet-stream]\n",
            "Saving to: ‘/content/models/mmdetection/checkpoints/yolox_l_8x8_300e_coco_20211126_140236-d3bd2b23.pth’\n",
            "\n",
            "            /conten  79%[==============>     ] 165.76M  8.24MB/s    eta 6s     "
          ]
        }
      ],
      "source": [
        "#@title Download YOLOX-x config and checkpoint (pre-trained)\n",
        "# Memory requirements for YOLOX models: \n",
        "# https://download.openmmlab.com/mmdetection/v2.0/yolox/yolox_s_8x8_300e_coco/\n",
        "# YOLOX-s\t7.6 GB\n",
        "# YOLOX-l\t19.9 GB\n",
        "# YOLOX-x\t28.1 GB\n",
        "# While Google Colab provides us with just ~13 GB!\n",
        "\n",
        "mmdetection_config_path = os.path.join(models_mmdetection_path, \"configs\")\n",
        "mmdetection_checkpoint_path = os.path.join(models_mmdetection_path, \"checkpoints\")\n",
        "\n",
        "# yolox_config_filename = \"yolox_x_8x8_300e_coco.py\"\n",
        "yolox_config_filename = \"yolox_s_8x8_300e_coco.py\"\n",
        "yolox_config_filepath = os.path.join(mmdetection_config_path, \"yolox\", yolox_config_filename)\n",
        "\n",
        "# And YOLOX-x checkpoint\n",
        "# yolox_checkpoint_filename = \"yolox_x_8x8_300e_coco_20211126_140254-1ef88d67.pth\"\n",
        "yolox_checkpoint_filename = \"yolox_s_8x8_300e_coco_20211121_095711-4592a793.pth\"\n",
        "yolox_checkpoint_filepath = os.path.join(models_mmdetection_path, \"checkpoints\", yolox_checkpoint_filename)\n",
        "if not os.path.exists(mmdetection_checkpoint_path):\n",
        "    os.mkdir(mmdetection_checkpoint_path)\n",
        "# url = \"https://download.openmmlab.com/mmdetection/v2.0/yolox/yolox_x_8x8_300e_coco/\" + yolox_checkpoint_filename\n",
        "url = \"https://download.openmmlab.com/mmdetection/v2.0/yolox/yolox_s_8x8_300e_coco/\" + yolox_checkpoint_filename\n",
        "!wget -c $url -O $yolox_checkpoint_filepath"
      ]
    },
    {
      "cell_type": "code",
      "execution_count": null,
      "metadata": {
        "id": "egmFK4r_CiHB"
      },
      "outputs": [],
      "source": [
        "# https://colab.research.google.com/github/ZwwWayne/mmdetection/blob/update-colab/demo/MMDet_Tutorial.ipynb#scrollTo=hamZrlnH-YDD\n",
        "from mmdet.apis import set_random_seed\n",
        "from mmcv import Config\n",
        "\n",
        "classes_tuple = tuple(classes)\n",
        "\n",
        "cfg = Config.fromfile(yolox_config_filepath)\n",
        "\n",
        "# print(f'Initial config:\\n{cfg.pretty_text}')\n",
        "\n",
        "cfg.load_from = yolox_checkpoint_filepath\n",
        "\n",
        "cfg.work_dir = working_path\n",
        "cfg.data_root = dataset_mio_tcd_path\n",
        "# cfg.data_root = datasets_path\n",
        "\n",
        "cfg.dataset_type = \"CustomDataset\"\n",
        "\n",
        "img_prefix = dataset_mio_tcd_path\n",
        "# img_prefix = datasets_path\n",
        "ann_file = os.path.join(dataset_mio_tcd_path, \"gt.pickle\")\n",
        "# ann_file = os.path.join(datasets_path, \"dataset.pickle\")\n",
        "cfg.train_dataset.dataset.type = \"CustomDataset\"\n",
        "cfg.train_dataset.dataset.ann_file = ann_file \n",
        "cfg.train_dataset.dataset.img_prefix = img_prefix\n",
        "cfg.data.train.dataset.type = \"CustomDataset\"\n",
        "cfg.data.train.dataset.ann_file = ann_file\n",
        "cfg.data.train.dataset.img_prefix = img_prefix\n",
        "cfg.data.val.type = \"CustomDataset\"\n",
        "cfg.data.val.ann_file = ann_file\n",
        "cfg.data.val.img_prefix = img_prefix\n",
        "cfg.data.test.type = \"CustomDataset\"\n",
        "cfg.data.test.ann_file = ann_file\n",
        "cfg.data.test.img_prefix = img_prefix\n",
        "\n",
        "cfg.gpu_ids = [0]\n",
        "cfg.device = \"cuda\"\n",
        "cfg.device = \"cpu\"\n",
        "\n",
        "cfg.seed = 0\n",
        "set_random_seed(0, deterministic=False)\n",
        "\n",
        "        \n",
        "# The original learning rate (LR) is set for 8-GPU training.\n",
        "# We divide it by 8 since we only use one GPU.\n",
        "cfg.optimizer.lr = 0.02 / 8\n",
        "cfg.lr_config.warmup = None\n",
        "cfg.log_config.interval = 10\n",
        "\n",
        "# Change the evaluation metric since we use customized dataset.\n",
        "cfg.evaluation.metric = 'mAP'\n",
        "\n",
        "# We can set the evaluation interval to reduce the evaluation times\n",
        "cfg.evaluation.interval = 1\n",
        "\n",
        "# We can set the checkpoint saving interval to reduce the storage cost\n",
        "cfg.checkpoint_config.interval = 1\n",
        "\n",
        "cfg.max_epochs = 10\n",
        "runner = dict(type='EpochBasedRunner', max_epochs=cfg.max_epochs)\n",
        "\n",
        "# We can also use tensorboard to log the training process\n",
        "# cfg.log_config.hooks = [\n",
        "#     dict(type='TextLoggerHook'),\n",
        "#     dict(type='TensorboardLoggerHook')]\n",
        "\n",
        "# cfg.train_dataset = {}\n",
        "# cfg.pop(\"train_dataset\")\n",
        "# cfg.train_dataset.filter_empty_gt = True\n",
        "\n",
        "# We can initialize the logger for training and have a look\n",
        "# at the final config used for training\n",
        "print(f'Config:\\n{cfg.pretty_text}')"
      ]
    },
    {
      "cell_type": "code",
      "execution_count": null,
      "metadata": {
        "id": "1ZSc7wQWEdLp"
      },
      "outputs": [],
      "source": [
        "# https://colab.research.google.com/github/ZwwWayne/mmdetection/blob/update-colab/demo/MMDet_Tutorial.ipynb#scrollTo=hamZrlnH-YDD\n",
        "import mmcv\n",
        "from mmdet.datasets import build_dataset\n",
        "from mmdet.models import build_detector\n",
        "from mmdet.apis import train_detector\n",
        "\n",
        "# Build dataset\n",
        "datasets = [build_dataset(cfg.data.train)]\n",
        "\n",
        "# Build the detector\n",
        "model = build_detector(cfg.model)\n",
        "# Add an attribute for visualization convenience\n",
        "model.CLASSES = datasets[0].CLASSES\n",
        "\n",
        "# Create work_dir\n",
        "train_detector(model, datasets, cfg)"
      ]
    },
    {
      "cell_type": "code",
      "execution_count": null,
      "metadata": {
        "id": "F6svAKtHA2Oc"
      },
      "outputs": [],
      "source": [
        "# memory footprint support libraries/code\n",
        "!ln -sf /opt/bin/nvidia-smi /usr/bin/nvidia-smi\n",
        "!pip install gputil\n",
        "!pip install psutil\n",
        "!pip install humanize\n",
        "\n",
        "import psutil\n",
        "import humanize\n",
        "import os\n",
        "import GPUtil as GPU\n",
        "\n",
        "GPUs = GPU.getGPUs()\n",
        "# XXX: only one GPU on Colab and isn’t guaranteed\n",
        "gpu = GPUs[0]\n",
        "def printm():\n",
        "    process = psutil.Process(os.getpid())\n",
        "    print(\"Gen RAM Free: \" + humanize.naturalsize(psutil.virtual_memory().available), \" |     Proc size: \" + humanize.naturalsize(process.memory_info().rss))\n",
        "    print(\"GPU RAM Free: {0:.0f}MB | Used: {1:.0f}MB | Util {2:3.0f}% | Total     {3:.0f}MB\".format(gpu.memoryFree, gpu.memoryUsed, gpu.memoryUtil*100, gpu.memoryTotal))\n",
        "printm()"
      ]
    },
    {
      "cell_type": "code",
      "execution_count": null,
      "metadata": {
        "id": "JI9BmYnTBJdQ"
      },
      "outputs": [],
      "source": [
        "!nvidia-smi\n",
        "\n",
        "!pip install numba\n",
        "\n",
        "from numba import cuda \n",
        "device = cuda.get_current_device()\n",
        "device.reset()"
      ]
    },
    {
      "cell_type": "markdown",
      "metadata": {
        "id": "k16gXVKYwDCk"
      },
      "source": [
        "# Keepalive"
      ]
    },
    {
      "cell_type": "code",
      "execution_count": null,
      "metadata": {
        "id": "iape-hqdwEzH"
      },
      "outputs": [],
      "source": [
        "from time import sleep\n",
        "counter = 0\n",
        "while True:\n",
        "    sleep(10)\n",
        "    print(counter, end=\"\\r\")\n",
        "    counter += 10"
      ]
    }
  ],
  "metadata": {
    "accelerator": "GPU",
    "colab": {
      "collapsed_sections": [],
      "provenance": []
    },
    "gpuClass": "standard",
    "kernelspec": {
      "display_name": "Python 3.9.2 64-bit",
      "language": "python",
      "name": "python3"
    },
    "language_info": {
      "codemirror_mode": {
        "name": "ipython",
        "version": 3
      },
      "file_extension": ".py",
      "mimetype": "text/x-python",
      "name": "python",
      "nbconvert_exporter": "python",
      "pygments_lexer": "ipython3",
      "version": "3.9.2"
    },
    "vscode": {
      "interpreter": {
        "hash": "916dbcbb3f70747c44a77c7bcd40155683ae19c65e1c03b4aa3499c5328201f1"
      }
    }
  },
  "nbformat": 4,
  "nbformat_minor": 0
}
