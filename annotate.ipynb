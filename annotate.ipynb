{
 "cells": [
  {
   "cell_type": "code",
   "execution_count": 1,
   "metadata": {},
   "outputs": [],
   "source": [
    "import cv2\n",
    "import os\n",
    "\n",
    "import paths\n",
    "from process_dataset import common"
   ]
  },
  {
   "cell_type": "code",
   "execution_count": 2,
   "metadata": {},
   "outputs": [],
   "source": [
    "# %pip install -U openmim\n",
    "\n",
    "# !mim install \"mmcv>=2.0.0rc1,<2.1.0\"\n",
    "\n",
    "# %cd $paths.mm_parent_dirpath\n",
    "# # !git clone https://github.com/open-mmlab/mmdetection.git\n",
    "# %cd mmdetection\n",
    "# %pip install -e .\n",
    "# %cd $paths.proj_path\n",
    "\n",
    "# %cd $paths.mm_parent_dirpath\n",
    "# # !git clone https://github.com/open-mmlab/mmengine\n",
    "# %cd mmengine\n",
    "# %pip install -e .\n",
    "# %cd $paths.proj_path"
   ]
  },
  {
   "cell_type": "code",
   "execution_count": 3,
   "metadata": {},
   "outputs": [],
   "source": [
    "# Epoch number (to choose a checkpoint)\n",
    "e = 23\n",
    "\n",
    "device = \"cuda:0\"\n",
    "# device = \"cpu\"\n",
    "\n",
    "score_thr = 0.6\n",
    "# score_thr = 0\n",
    "\n",
    "# Video input filename\n",
    "input_filename = \"day_hq.mp4\"\n",
    "\n",
    "output_name = input_filename.split(\".\")[0] + f\"_e{e}_{score_thr}\"\n",
    "\n",
    "# Video output filename\n",
    "output_filename = output_name + \".mp4\"\n",
    "\n",
    "# Step (every n-th frame will be taken, other ignored)\n",
    "# step = 1\n",
    "step = 30\n",
    "\n",
    "input_fps = 30\n",
    "\n",
    "# Frames output folder\n",
    "frames_dirname = output_name\n",
    "\n",
    "# Pick a specific .pth file\n",
    "paths.last_checkpoint_filepath = os.path.join(paths.working_dirpath, f\"epoch_{e}.pth\")\n",
    "\n",
    "# stop_at_frames = 0\n",
    "stop_at_frames = 100"
   ]
  },
  {
   "cell_type": "code",
   "execution_count": 4,
   "metadata": {},
   "outputs": [
    {
     "name": "stdout",
     "output_type": "stream",
     "text": [
      "c:/Users/z004ktej/Desktop/d_projekty/bp/proj\\..\\mmdetection\\configs\\yolox\\yolox_s_8xb8-300e_coco_custom.py\n",
      "c:/Users/z004ktej/Desktop/d_projekty/bp/proj\\working_dir_yolox_4_bad\\epoch_23.pth\n"
     ]
    }
   ],
   "source": [
    "print(paths.model_config_filepath)\n",
    "print(paths.last_checkpoint_filepath)"
   ]
  },
  {
   "attachments": {},
   "cell_type": "markdown",
   "metadata": {},
   "source": [
    "Error `UserWarning: Class names are not saved in the checkpoint's meta data, use COCO classes by default.`\n",
    "can be ignored. Just now, even after receiving this error, images are annotated correctly with my classes."
   ]
  },
  {
   "cell_type": "code",
   "execution_count": 6,
   "metadata": {},
   "outputs": [
    {
     "ename": "KeyError",
     "evalue": "\"class `YOLOX` in mmdet/models/detectors/yolox.py: 'DetDataPreprocessor is not in the model registry. Please check whether the value of `DetDataPreprocessor` is correct or it was registered as expected. More details can be found at https://mmengine.readthedocs.io/en/latest/advanced_tutorials/config.html#import-the-custom-module'\"",
     "output_type": "error",
     "traceback": [
      "\u001b[1;31m---------------------------------------------------------------------------\u001b[0m",
      "\u001b[1;31mKeyError\u001b[0m                                  Traceback (most recent call last)",
      "File \u001b[1;32mc:\\users\\z004ktej\\desktop\\d_projekty\\bp\\proj\\mmengine\\mmengine\\registry\\build_functions.py:121\u001b[0m, in \u001b[0;36mbuild_from_cfg\u001b[1;34m(cfg, registry, default_args)\u001b[0m\n\u001b[0;32m    120\u001b[0m \u001b[39melse\u001b[39;00m:\n\u001b[1;32m--> 121\u001b[0m     obj \u001b[39m=\u001b[39m obj_cls(\u001b[39m*\u001b[39m\u001b[39m*\u001b[39margs)  \u001b[39m# type: ignore\u001b[39;00m\n\u001b[0;32m    123\u001b[0m print_log(\n\u001b[0;32m    124\u001b[0m     \u001b[39mf\u001b[39m\u001b[39m'\u001b[39m\u001b[39mAn `\u001b[39m\u001b[39m{\u001b[39;00mobj_cls\u001b[39m.\u001b[39m\u001b[39m__name__\u001b[39m\u001b[39m}\u001b[39;00m\u001b[39m` instance is built from \u001b[39m\u001b[39m'\u001b[39m  \u001b[39m# type: ignore # noqa: E501\u001b[39;00m\n\u001b[0;32m    125\u001b[0m     \u001b[39m'\u001b[39m\u001b[39mregistry, its implementation can be found in \u001b[39m\u001b[39m'\u001b[39m\n\u001b[0;32m    126\u001b[0m     \u001b[39mf\u001b[39m\u001b[39m'\u001b[39m\u001b[39m{\u001b[39;00mobj_cls\u001b[39m.\u001b[39m\u001b[39m__module__\u001b[39m\u001b[39m}\u001b[39;00m\u001b[39m'\u001b[39m,  \u001b[39m# type: ignore\u001b[39;00m\n\u001b[0;32m    127\u001b[0m     logger\u001b[39m=\u001b[39m\u001b[39m'\u001b[39m\u001b[39mcurrent\u001b[39m\u001b[39m'\u001b[39m,\n\u001b[0;32m    128\u001b[0m     level\u001b[39m=\u001b[39mlogging\u001b[39m.\u001b[39mDEBUG)\n",
      "File \u001b[1;32mc:\\users\\z004ktej\\desktop\\d_projekty\\bp\\mmdetection\\mmdet\\models\\detectors\\yolox.py:36\u001b[0m, in \u001b[0;36mYOLOX.__init__\u001b[1;34m(self, backbone, neck, bbox_head, train_cfg, test_cfg, data_preprocessor, init_cfg)\u001b[0m\n\u001b[0;32m     28\u001b[0m \u001b[39mdef\u001b[39;00m \u001b[39m__init__\u001b[39m(\u001b[39mself\u001b[39m,\n\u001b[0;32m     29\u001b[0m              backbone: ConfigType,\n\u001b[0;32m     30\u001b[0m              neck: ConfigType,\n\u001b[1;32m   (...)\u001b[0m\n\u001b[0;32m     34\u001b[0m              data_preprocessor: OptConfigType \u001b[39m=\u001b[39m \u001b[39mNone\u001b[39;00m,\n\u001b[0;32m     35\u001b[0m              init_cfg: OptMultiConfig \u001b[39m=\u001b[39m \u001b[39mNone\u001b[39;00m) \u001b[39m-\u001b[39m\u001b[39m>\u001b[39m \u001b[39mNone\u001b[39;00m:\n\u001b[1;32m---> 36\u001b[0m     \u001b[39msuper\u001b[39;49m()\u001b[39m.\u001b[39;49m\u001b[39m__init__\u001b[39;49m(\n\u001b[0;32m     37\u001b[0m         backbone\u001b[39m=\u001b[39;49mbackbone,\n\u001b[0;32m     38\u001b[0m         neck\u001b[39m=\u001b[39;49mneck,\n\u001b[0;32m     39\u001b[0m         bbox_head\u001b[39m=\u001b[39;49mbbox_head,\n\u001b[0;32m     40\u001b[0m         train_cfg\u001b[39m=\u001b[39;49mtrain_cfg,\n\u001b[0;32m     41\u001b[0m         test_cfg\u001b[39m=\u001b[39;49mtest_cfg,\n\u001b[0;32m     42\u001b[0m         data_preprocessor\u001b[39m=\u001b[39;49mdata_preprocessor,\n\u001b[0;32m     43\u001b[0m         init_cfg\u001b[39m=\u001b[39;49minit_cfg)\n",
      "File \u001b[1;32mc:\\users\\z004ktej\\desktop\\d_projekty\\bp\\mmdetection\\mmdet\\models\\detectors\\single_stage.py:28\u001b[0m, in \u001b[0;36mSingleStageDetector.__init__\u001b[1;34m(self, backbone, neck, bbox_head, train_cfg, test_cfg, data_preprocessor, init_cfg)\u001b[0m\n\u001b[0;32m     20\u001b[0m \u001b[39mdef\u001b[39;00m \u001b[39m__init__\u001b[39m(\u001b[39mself\u001b[39m,\n\u001b[0;32m     21\u001b[0m              backbone: ConfigType,\n\u001b[0;32m     22\u001b[0m              neck: OptConfigType \u001b[39m=\u001b[39m \u001b[39mNone\u001b[39;00m,\n\u001b[1;32m   (...)\u001b[0m\n\u001b[0;32m     26\u001b[0m              data_preprocessor: OptConfigType \u001b[39m=\u001b[39m \u001b[39mNone\u001b[39;00m,\n\u001b[0;32m     27\u001b[0m              init_cfg: OptMultiConfig \u001b[39m=\u001b[39m \u001b[39mNone\u001b[39;00m) \u001b[39m-\u001b[39m\u001b[39m>\u001b[39m \u001b[39mNone\u001b[39;00m:\n\u001b[1;32m---> 28\u001b[0m     \u001b[39msuper\u001b[39;49m()\u001b[39m.\u001b[39;49m\u001b[39m__init__\u001b[39;49m(\n\u001b[0;32m     29\u001b[0m         data_preprocessor\u001b[39m=\u001b[39;49mdata_preprocessor, init_cfg\u001b[39m=\u001b[39;49minit_cfg)\n\u001b[0;32m     30\u001b[0m     \u001b[39mself\u001b[39m\u001b[39m.\u001b[39mbackbone \u001b[39m=\u001b[39m MODELS\u001b[39m.\u001b[39mbuild(backbone)\n",
      "File \u001b[1;32mc:\\users\\z004ktej\\desktop\\d_projekty\\bp\\mmdetection\\mmdet\\models\\detectors\\base.py:31\u001b[0m, in \u001b[0;36mBaseDetector.__init__\u001b[1;34m(self, data_preprocessor, init_cfg)\u001b[0m\n\u001b[0;32m     28\u001b[0m \u001b[39mdef\u001b[39;00m \u001b[39m__init__\u001b[39m(\u001b[39mself\u001b[39m,\n\u001b[0;32m     29\u001b[0m              data_preprocessor: OptConfigType \u001b[39m=\u001b[39m \u001b[39mNone\u001b[39;00m,\n\u001b[0;32m     30\u001b[0m              init_cfg: OptMultiConfig \u001b[39m=\u001b[39m \u001b[39mNone\u001b[39;00m):\n\u001b[1;32m---> 31\u001b[0m     \u001b[39msuper\u001b[39;49m()\u001b[39m.\u001b[39;49m\u001b[39m__init__\u001b[39;49m(\n\u001b[0;32m     32\u001b[0m         data_preprocessor\u001b[39m=\u001b[39;49mdata_preprocessor, init_cfg\u001b[39m=\u001b[39;49minit_cfg)\n",
      "File \u001b[1;32mc:\\users\\z004ktej\\desktop\\d_projekty\\bp\\proj\\mmengine\\mmengine\\model\\base_model\\base_model.py:78\u001b[0m, in \u001b[0;36mBaseModel.__init__\u001b[1;34m(self, data_preprocessor, init_cfg)\u001b[0m\n\u001b[0;32m     77\u001b[0m \u001b[39melif\u001b[39;00m \u001b[39misinstance\u001b[39m(data_preprocessor, \u001b[39mdict\u001b[39m):\n\u001b[1;32m---> 78\u001b[0m     \u001b[39mself\u001b[39m\u001b[39m.\u001b[39mdata_preprocessor \u001b[39m=\u001b[39m MODELS\u001b[39m.\u001b[39;49mbuild(data_preprocessor)\n\u001b[0;32m     79\u001b[0m \u001b[39melse\u001b[39;00m:\n",
      "File \u001b[1;32mc:\\users\\z004ktej\\desktop\\d_projekty\\bp\\proj\\mmengine\\mmengine\\registry\\registry.py:537\u001b[0m, in \u001b[0;36mRegistry.build\u001b[1;34m(self, cfg, *args, **kwargs)\u001b[0m\n\u001b[0;32m    516\u001b[0m \u001b[39m\u001b[39m\u001b[39m\"\"\"Build an instance.\u001b[39;00m\n\u001b[0;32m    517\u001b[0m \n\u001b[0;32m    518\u001b[0m \u001b[39mBuild an instance by calling :attr:`build_func`.\u001b[39;00m\n\u001b[1;32m   (...)\u001b[0m\n\u001b[0;32m    535\u001b[0m \u001b[39m    >>> model = MODELS.build(cfg)\u001b[39;00m\n\u001b[0;32m    536\u001b[0m \u001b[39m\"\"\"\u001b[39;00m\n\u001b[1;32m--> 537\u001b[0m \u001b[39mreturn\u001b[39;00m \u001b[39mself\u001b[39m\u001b[39m.\u001b[39mbuild_func(cfg, \u001b[39m*\u001b[39margs, \u001b[39m*\u001b[39m\u001b[39m*\u001b[39mkwargs, registry\u001b[39m=\u001b[39m\u001b[39mself\u001b[39m)\n",
      "File \u001b[1;32mc:\\users\\z004ktej\\desktop\\d_projekty\\bp\\proj\\mmengine\\mmengine\\registry\\build_functions.py:240\u001b[0m, in \u001b[0;36mbuild_model_from_cfg\u001b[1;34m(cfg, registry, default_args)\u001b[0m\n\u001b[0;32m    239\u001b[0m \u001b[39melse\u001b[39;00m:\n\u001b[1;32m--> 240\u001b[0m     \u001b[39mreturn\u001b[39;00m build_from_cfg(cfg, registry, default_args)\n",
      "File \u001b[1;32mc:\\users\\z004ktej\\desktop\\d_projekty\\bp\\proj\\mmengine\\mmengine\\registry\\build_functions.py:100\u001b[0m, in \u001b[0;36mbuild_from_cfg\u001b[1;34m(cfg, registry, default_args)\u001b[0m\n\u001b[0;32m     99\u001b[0m     \u001b[39mif\u001b[39;00m obj_cls \u001b[39mis\u001b[39;00m \u001b[39mNone\u001b[39;00m:\n\u001b[1;32m--> 100\u001b[0m         \u001b[39mraise\u001b[39;00m \u001b[39mKeyError\u001b[39;00m(\n\u001b[0;32m    101\u001b[0m             \u001b[39mf\u001b[39m\u001b[39m'\u001b[39m\u001b[39m{\u001b[39;00mobj_type\u001b[39m}\u001b[39;00m\u001b[39m is not in the \u001b[39m\u001b[39m{\u001b[39;00mregistry\u001b[39m.\u001b[39mname\u001b[39m}\u001b[39;00m\u001b[39m registry. \u001b[39m\u001b[39m'\u001b[39m\n\u001b[0;32m    102\u001b[0m             \u001b[39mf\u001b[39m\u001b[39m'\u001b[39m\u001b[39mPlease check whether the value of `\u001b[39m\u001b[39m{\u001b[39;00mobj_type\u001b[39m}\u001b[39;00m\u001b[39m` is \u001b[39m\u001b[39m'\u001b[39m\n\u001b[0;32m    103\u001b[0m             \u001b[39m'\u001b[39m\u001b[39mcorrect or it was registered as expected. More details \u001b[39m\u001b[39m'\u001b[39m\n\u001b[0;32m    104\u001b[0m             \u001b[39m'\u001b[39m\u001b[39mcan be found at \u001b[39m\u001b[39m'\u001b[39m\n\u001b[0;32m    105\u001b[0m             \u001b[39m'\u001b[39m\u001b[39mhttps://mmengine.readthedocs.io/en/latest/advanced_tutorials/config.html#import-the-custom-module\u001b[39m\u001b[39m'\u001b[39m  \u001b[39m# noqa: E501\u001b[39;00m\n\u001b[0;32m    106\u001b[0m         )\n\u001b[0;32m    107\u001b[0m \u001b[39melif\u001b[39;00m inspect\u001b[39m.\u001b[39misclass(obj_type) \u001b[39mor\u001b[39;00m inspect\u001b[39m.\u001b[39misfunction(obj_type):\n",
      "\u001b[1;31mKeyError\u001b[0m: 'DetDataPreprocessor is not in the model registry. Please check whether the value of `DetDataPreprocessor` is correct or it was registered as expected. More details can be found at https://mmengine.readthedocs.io/en/latest/advanced_tutorials/config.html#import-the-custom-module'",
      "\nDuring handling of the above exception, another exception occurred:\n",
      "\u001b[1;31mKeyError\u001b[0m                                  Traceback (most recent call last)",
      "Cell \u001b[1;32mIn[6], line 11\u001b[0m\n\u001b[0;32m      4\u001b[0m \u001b[39mfrom\u001b[39;00m \u001b[39mmmdet\u001b[39;00m\u001b[39m.\u001b[39;00m\u001b[39mregistry\u001b[39;00m \u001b[39mimport\u001b[39;00m VISUALIZERS\n\u001b[0;32m      6\u001b[0m \u001b[39m# from mmyolo.utils import register_all_modules\u001b[39;00m\n\u001b[0;32m      7\u001b[0m \u001b[39m# from mmyolo.registry import VISUALIZERS\u001b[39;00m\n\u001b[0;32m      8\u001b[0m \n\u001b[0;32m      9\u001b[0m \u001b[39m# register_all_modules()\u001b[39;00m\n\u001b[1;32m---> 11\u001b[0m model \u001b[39m=\u001b[39m init_detector(paths\u001b[39m.\u001b[39;49mmodel_config_filepath, paths\u001b[39m.\u001b[39;49mlast_checkpoint_filepath, device\u001b[39m=\u001b[39;49mdevice)\n\u001b[0;32m     13\u001b[0m model\u001b[39m.\u001b[39mCLASSES \u001b[39m=\u001b[39m \u001b[39mlist\u001b[39m(common\u001b[39m.\u001b[39mclasses_ids\u001b[39m.\u001b[39mkeys()) \u001b[39m# Needed for correct class names\u001b[39;00m\n\u001b[0;32m     15\u001b[0m model\u001b[39m.\u001b[39mcfg\u001b[39m.\u001b[39mtest_dataloader\u001b[39m.\u001b[39mdataset\u001b[39m.\u001b[39mpipeline[\u001b[39m0\u001b[39m]\u001b[39m.\u001b[39mtype \u001b[39m=\u001b[39m \u001b[39m\"\u001b[39m\u001b[39mmmdet.LoadImageFromNDArray\u001b[39m\u001b[39m\"\u001b[39m\n",
      "File \u001b[1;32mc:\\users\\z004ktej\\desktop\\d_projekty\\bp\\mmdetection\\mmdet\\apis\\inference.py:55\u001b[0m, in \u001b[0;36minit_detector\u001b[1;34m(config, checkpoint, palette, device, cfg_options)\u001b[0m\n\u001b[0;32m     53\u001b[0m \u001b[39melif\u001b[39;00m \u001b[39m'\u001b[39m\u001b[39minit_cfg\u001b[39m\u001b[39m'\u001b[39m \u001b[39min\u001b[39;00m config\u001b[39m.\u001b[39mmodel\u001b[39m.\u001b[39mbackbone:\n\u001b[0;32m     54\u001b[0m     config\u001b[39m.\u001b[39mmodel\u001b[39m.\u001b[39mbackbone\u001b[39m.\u001b[39minit_cfg \u001b[39m=\u001b[39m \u001b[39mNone\u001b[39;00m\n\u001b[1;32m---> 55\u001b[0m model \u001b[39m=\u001b[39m MODELS\u001b[39m.\u001b[39;49mbuild(config\u001b[39m.\u001b[39;49mmodel)\n\u001b[0;32m     56\u001b[0m \u001b[39mif\u001b[39;00m checkpoint \u001b[39mis\u001b[39;00m \u001b[39mnot\u001b[39;00m \u001b[39mNone\u001b[39;00m:\n\u001b[0;32m     57\u001b[0m     checkpoint \u001b[39m=\u001b[39m load_checkpoint(model, checkpoint, map_location\u001b[39m=\u001b[39m\u001b[39m'\u001b[39m\u001b[39mcpu\u001b[39m\u001b[39m'\u001b[39m)\n",
      "File \u001b[1;32mc:\\users\\z004ktej\\desktop\\d_projekty\\bp\\proj\\mmengine\\mmengine\\registry\\registry.py:537\u001b[0m, in \u001b[0;36mRegistry.build\u001b[1;34m(self, cfg, *args, **kwargs)\u001b[0m\n\u001b[0;32m    515\u001b[0m \u001b[39mdef\u001b[39;00m \u001b[39mbuild\u001b[39m(\u001b[39mself\u001b[39m, cfg: \u001b[39mdict\u001b[39m, \u001b[39m*\u001b[39margs, \u001b[39m*\u001b[39m\u001b[39m*\u001b[39mkwargs) \u001b[39m-\u001b[39m\u001b[39m>\u001b[39m Any:\n\u001b[0;32m    516\u001b[0m \u001b[39m    \u001b[39m\u001b[39m\"\"\"Build an instance.\u001b[39;00m\n\u001b[0;32m    517\u001b[0m \n\u001b[0;32m    518\u001b[0m \u001b[39m    Build an instance by calling :attr:`build_func`.\u001b[39;00m\n\u001b[1;32m   (...)\u001b[0m\n\u001b[0;32m    535\u001b[0m \u001b[39m        >>> model = MODELS.build(cfg)\u001b[39;00m\n\u001b[0;32m    536\u001b[0m \u001b[39m    \"\"\"\u001b[39;00m\n\u001b[1;32m--> 537\u001b[0m     \u001b[39mreturn\u001b[39;00m \u001b[39mself\u001b[39m\u001b[39m.\u001b[39mbuild_func(cfg, \u001b[39m*\u001b[39margs, \u001b[39m*\u001b[39m\u001b[39m*\u001b[39mkwargs, registry\u001b[39m=\u001b[39m\u001b[39mself\u001b[39m)\n",
      "File \u001b[1;32mc:\\users\\z004ktej\\desktop\\d_projekty\\bp\\proj\\mmengine\\mmengine\\registry\\build_functions.py:240\u001b[0m, in \u001b[0;36mbuild_model_from_cfg\u001b[1;34m(cfg, registry, default_args)\u001b[0m\n\u001b[0;32m    238\u001b[0m     \u001b[39mreturn\u001b[39;00m Sequential(\u001b[39m*\u001b[39mmodules)\n\u001b[0;32m    239\u001b[0m \u001b[39melse\u001b[39;00m:\n\u001b[1;32m--> 240\u001b[0m     \u001b[39mreturn\u001b[39;00m build_from_cfg(cfg, registry, default_args)\n",
      "File \u001b[1;32mc:\\users\\z004ktej\\desktop\\d_projekty\\bp\\proj\\mmengine\\mmengine\\registry\\build_functions.py:135\u001b[0m, in \u001b[0;36mbuild_from_cfg\u001b[1;34m(cfg, registry, default_args)\u001b[0m\n\u001b[0;32m    131\u001b[0m \u001b[39mexcept\u001b[39;00m \u001b[39mException\u001b[39;00m \u001b[39mas\u001b[39;00m e:\n\u001b[0;32m    132\u001b[0m     \u001b[39m# Normal TypeError does not print class name.\u001b[39;00m\n\u001b[0;32m    133\u001b[0m     cls_location \u001b[39m=\u001b[39m \u001b[39m'\u001b[39m\u001b[39m/\u001b[39m\u001b[39m'\u001b[39m\u001b[39m.\u001b[39mjoin(\n\u001b[0;32m    134\u001b[0m         obj_cls\u001b[39m.\u001b[39m\u001b[39m__module__\u001b[39m\u001b[39m.\u001b[39msplit(\u001b[39m'\u001b[39m\u001b[39m.\u001b[39m\u001b[39m'\u001b[39m))  \u001b[39m# type: ignore\u001b[39;00m\n\u001b[1;32m--> 135\u001b[0m     \u001b[39mraise\u001b[39;00m \u001b[39mtype\u001b[39m(e)(\n\u001b[0;32m    136\u001b[0m         \u001b[39mf\u001b[39m\u001b[39m'\u001b[39m\u001b[39mclass `\u001b[39m\u001b[39m{\u001b[39;00mobj_cls\u001b[39m.\u001b[39m\u001b[39m__name__\u001b[39m\u001b[39m}\u001b[39;00m\u001b[39m` in \u001b[39m\u001b[39m'\u001b[39m  \u001b[39m# type: ignore\u001b[39;00m\n\u001b[0;32m    137\u001b[0m         \u001b[39mf\u001b[39m\u001b[39m'\u001b[39m\u001b[39m{\u001b[39;00mcls_location\u001b[39m}\u001b[39;00m\u001b[39m.py: \u001b[39m\u001b[39m{\u001b[39;00me\u001b[39m}\u001b[39;00m\u001b[39m'\u001b[39m)\n",
      "\u001b[1;31mKeyError\u001b[0m: \"class `YOLOX` in mmdet/models/detectors/yolox.py: 'DetDataPreprocessor is not in the model registry. Please check whether the value of `DetDataPreprocessor` is correct or it was registered as expected. More details can be found at https://mmengine.readthedocs.io/en/latest/advanced_tutorials/config.html#import-the-custom-module'\""
     ]
    }
   ],
   "source": [
    "import mmcv\n",
    "from mmdet.apis import init_detector, inference_detector\n",
    "\n",
    "# MMDetection\n",
    "# Check for v2.0:\n",
    "# `video_demo.py ../../proj/day_hq.mp4 /Users/z004ktej/Desktop/d_projekty/bp/proj\\..\\mmdetection_old\\configs\\yolox\\yolox_s_8x8_300e_coco_custom.py \"/Users/z004ktej/Desktop/d_projekty/bp/proj\\working_dir_yolox_3\\epoch_23.pth\" --show`\n",
    "# Check for v3.0:\n",
    "from mmdet.registry import VISUALIZERS\n",
    "\n",
    "# MMYolo TODO\n",
    "# Check:\n",
    "# `python video_demo.py ../../proj/day_hq.mp4 \"/Users/z004ktej/Desktop/d_projekty/bp/proj\\..\\mmyolo\\configs\\yolov8\\yolov8_s_syncbn_fast_8xb16-500e_coco_custom.py\" \"/Users/z004ktej/Desktop/d_projekty/bp/proj\\working_dir_yolox_3\\epoch_23.pth\" --show`\n",
    "# from mmyolo.utils import register_all_modules\n",
    "# from mmyolo.registry import VISUALIZERS\n",
    "# register_all_modules()\n",
    "\n",
    "model = init_detector(paths.model_config_filepath, paths.last_checkpoint_filepath, device=device)\n",
    "\n",
    "model.CLASSES = list(common.classes_ids.keys()) # Needed for correct class names\n",
    "\n",
    "model.cfg.test_dataloader.dataset.pipeline[0].type = \"mmdet.LoadImageFromNDArray\"\n",
    "\n",
    "# print(model.cfg.pretty_text)\n",
    "\n",
    "visualizer = VISUALIZERS.build(model.cfg.visualizer)\n",
    "visualizer.dataset_meta = model.dataset_meta\n",
    "\n",
    "# test_pipeline = mmcv.transforms.Compose(model.cfg.test_dataloader.dataset.pipeline)\n",
    "\n",
    "# I wanted to use the original yolox config and just adjust the number of \n",
    "# classes and classes themselves here, but this strangely results in misdetections\n",
    "# when inferencing... So, in this script, it is necessary to use a custom config\n",
    "# where the number of classes is updated\n",
    "# model.bbox_head.num_classes = len(common.classes)\n",
    "\n",
    "video = mmcv.VideoReader(input_filename)\n",
    "\n",
    "frames_dir = os.path.join(paths.working_dirpath, frames_dirname)\n",
    "if not os.path.exists(frames_dir):\n",
    "    os.mkdir(frames_dir)\n",
    "\n",
    "counter = 0\n",
    "try:\n",
    "    for frame in video:\n",
    "        print(counter // step, end=\"\\r\")\n",
    "\n",
    "        if counter % step == 0:\n",
    "\n",
    "            out_filepath = os.path.join(frames_dir, str(counter // step).zfill(6) + \".jpg\")\n",
    "\n",
    "            # in_filepath = os.path.join(os.path.dirname(out_filepath), \"tmp.jpg\")\n",
    "            # cv2.imwrite(in_filepath, frame)\n",
    "            # result = inference_detector(model, in_filepath)\n",
    "            # result = inference_detector(model, frame, test_pipeline=test_pipeline)\n",
    "            # result[\"img_path\"] = tmp\n",
    "\n",
    "            result = inference_detector(model, frame)\n",
    "            print(result)\n",
    "\n",
    "            visualizer.add_datasample(\n",
    "                os.path.basename(out_filepath),\n",
    "                frame,\n",
    "                data_sample=result,\n",
    "                draw_gt=False,\n",
    "                show=False,\n",
    "                wait_time=0,\n",
    "                out_file=out_filepath,\n",
    "                pred_score_thr=score_thr\n",
    "            )\n",
    "            # annotated = visualizer.get_image()\n",
    "            # cv2.imwrite(out_filepath, annotated)\n",
    "\n",
    "            # Without mmyolo, this worked:\n",
    "            # if score_thr == 0:\n",
    "            #     model.show_result(frame, result, out_file=out_filepath)\n",
    "            # else:\n",
    "            #     model.show_result(frame, result, score_thr=score_thr, out_file=out_filepath)\n",
    "\n",
    "        counter += 1\n",
    "        if counter == stop_at_frames * step: # Doesn't stop if stop_at_frames == 0\n",
    "            raise KeyboardInterrupt\n",
    "\n",
    "except KeyboardInterrupt:\n",
    "    print(\"Stop requested\")"
   ]
  },
  {
   "cell_type": "code",
   "execution_count": null,
   "metadata": {},
   "outputs": [],
   "source": [
    "fps = input_fps // step\n",
    "mmcv.frames2video(frames_dir, os.path.join(paths.working_dirpath, output_filename), fps=fps)"
   ]
  }
 ],
 "metadata": {
  "kernelspec": {
   "display_name": "Python 3",
   "language": "python",
   "name": "python3"
  },
  "language_info": {
   "codemirror_mode": {
    "name": "ipython",
    "version": 3
   },
   "file_extension": ".py",
   "mimetype": "text/x-python",
   "name": "python",
   "nbconvert_exporter": "python",
   "pygments_lexer": "ipython3",
   "version": "3.10.9"
  },
  "orig_nbformat": 4,
  "vscode": {
   "interpreter": {
    "hash": "229fedebb1d7394cf57a31acf727fae7ea6323c87170158d2b4890534347897d"
   }
  }
 },
 "nbformat": 4,
 "nbformat_minor": 2
}
