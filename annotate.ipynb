{
 "cells": [
  {
   "cell_type": "code",
   "execution_count": null,
   "metadata": {},
   "outputs": [],
   "source": [
    "from mmdet.apis import init_detector, inference_detector\n",
    "import mmcv\n",
    "import paths\n",
    "import pickle\n",
    "import os\n",
    "from process_dataset import common"
   ]
  },
  {
   "cell_type": "code",
   "execution_count": null,
   "metadata": {},
   "outputs": [],
   "source": [
    "# Epoch number (to choose a checkpoint)\n",
    "e = 31\n",
    "\n",
    "# device = \"cuda\"\n",
    "device = \"cpu\"\n",
    "\n",
    "score_thr = 0.5\n",
    "# score_thr = 0\n",
    "\n",
    "# Video input filename\n",
    "input_filename = \"day_hq.mp4\"\n",
    "\n",
    "output_id = input_filename.split(\".\")[0] + f\"_e{e}_{score_thr}\"\n",
    "\n",
    "# Video output filename\n",
    "output_filename = output_id + \".mp4\"\n",
    "\n",
    "# Step (every n-th frame will be taken, other ignored)\n",
    "step = 5\n",
    "\n",
    "# Frames output folder\n",
    "frames_dirname = output_id\n",
    "\n",
    "# Pick a specific .pth file\n",
    "paths.last_checkpoint_filepath = os.path.join(paths.working_dirpath, f\"epoch_{e}.pth\")\n",
    "\n",
    "# stop_at_frames = 0\n",
    "stop_at_frames = 100"
   ]
  },
  {
   "attachments": {},
   "cell_type": "markdown",
   "metadata": {},
   "source": [
    "Error `UserWarning: Class names are not saved in the checkpoint's meta data, use COCO classes by default.`\n",
    "can be ignored. Just now, even after receiving this error, images are annotated correctly with my classes."
   ]
  },
  {
   "cell_type": "code",
   "execution_count": null,
   "metadata": {},
   "outputs": [],
   "source": [
    "model = init_detector(paths.model_config_filepath, paths.last_checkpoint_filepath, device=device)\n",
    "model.CLASSES = common.classes # Needed for correct class names\n",
    "\n",
    "# I wanted to use the original yolox config and just adjust the number of \n",
    "# classes and classes themselves here, but this strangely results in misdetections\n",
    "# when inferencing... So, in this script, it is necessary to use a custom config\n",
    "# where the number of classes is updated\n",
    "# model.bbox_head.num_classes = len(common.classes)\n",
    "\n",
    "video = mmcv.VideoReader(input_filename)\n",
    "\n",
    "frames_dir = os.path.join(paths.working_dirpath, frames_dirname)\n",
    "if not os.path.exists(frames_dir):\n",
    "    os.mkdir(frames_dir)\n",
    "\n",
    "counter = 0\n",
    "try:\n",
    "    for frame in video:\n",
    "        print(counter // step, end=\"\\r\")\n",
    "\n",
    "        if counter % step == 0:\n",
    "            result = inference_detector(model, frame)\n",
    "            out_filepath = os.path.join(frames_dir, str(counter // step).zfill(6) + \".jpg\")\n",
    "\n",
    "            if score_thr == 0:\n",
    "                model.show_result(frame, result, out_file=out_filepath)\n",
    "            else:\n",
    "                model.show_result(frame, result, score_thr=score_thr, out_file=out_filepath)\n",
    "\n",
    "        counter += 1\n",
    "        if counter == stop_at_frames * step: # Doesn't stop if stop_at_frames == 0\n",
    "            raise KeyboardInterrupt\n",
    "\n",
    "except KeyboardInterrupt:\n",
    "    print(\"Stop requested\")"
   ]
  },
  {
   "cell_type": "code",
   "execution_count": null,
   "metadata": {},
   "outputs": [],
   "source": [
    "fps = 30 // step\n",
    "mmcv.frames2video(frames_dir, os.path.join(paths.working_dirpath, output_filename), fps=fps)"
   ]
  }
 ],
 "metadata": {
  "kernelspec": {
   "display_name": "Python 3",
   "language": "python",
   "name": "python3"
  },
  "language_info": {
   "codemirror_mode": {
    "name": "ipython",
    "version": 3
   },
   "file_extension": ".py",
   "mimetype": "text/x-python",
   "name": "python",
   "nbconvert_exporter": "python",
   "pygments_lexer": "ipython3",
   "version": "3.10.9"
  },
  "orig_nbformat": 4,
  "vscode": {
   "interpreter": {
    "hash": "229fedebb1d7394cf57a31acf727fae7ea6323c87170158d2b4890534347897d"
   }
  }
 },
 "nbformat": 4,
 "nbformat_minor": 2
}
