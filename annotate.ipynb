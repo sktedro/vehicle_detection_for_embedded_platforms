{
 "cells": [
  {
   "cell_type": "code",
   "execution_count": 1,
   "metadata": {},
   "outputs": [],
   "source": [
    "import cv2\n",
    "import os\n",
    "\n",
    "import paths\n",
    "from process_dataset import common"
   ]
  },
  {
   "cell_type": "code",
   "execution_count": 2,
   "metadata": {},
   "outputs": [],
   "source": [
    "# %pip install -U openmim\n",
    "\n",
    "# !mim install \"mmcv>=2.0.0rc1,<2.1.0\"\n",
    "\n",
    "# %cd $paths.mm_parent_dirpath\n",
    "# # !git clone https://github.com/open-mmlab/mmdetection.git\n",
    "# %cd mmdetection\n",
    "# %pip install -e .\n",
    "# %cd $paths.proj_path\n",
    "\n",
    "# %cd $paths.mm_parent_dirpath\n",
    "# # !git clone https://github.com/open-mmlab/mmengine\n",
    "# %cd mmengine\n",
    "# %pip install -e .\n",
    "# %cd $paths.proj_path"
   ]
  },
  {
   "cell_type": "code",
   "execution_count": 3,
   "metadata": {},
   "outputs": [],
   "source": [
    "# Epoch number (to choose a checkpoint)\n",
    "e = 8\n",
    "\n",
    "device = \"cuda:0\"\n",
    "# device = \"cpu\"\n",
    "\n",
    "score_thr = 0.5\n",
    "# score_thr = 0\n",
    "\n",
    "# Video input filename\n",
    "input_filename = \"day_hq.mp4\"\n",
    "\n",
    "output_name = input_filename.split(\".\")[0] + f\"_e{e}_{score_thr}\"\n",
    "\n",
    "# Video output filename\n",
    "output_filename = output_name + \".mp4\"\n",
    "\n",
    "# Step (every n-th frame will be taken, other ignored)\n",
    "# step = 1\n",
    "step = 5\n",
    "\n",
    "input_fps = 30\n",
    "\n",
    "# Frames output folder\n",
    "frames_dirname = output_name\n",
    "\n",
    "# Pick a specific .pth file\n",
    "paths.last_checkpoint_filepath = os.path.join(paths.working_dirpath, f\"epoch_{e}.pth\")\n",
    "\n",
    "# stop_at_frames = 0\n",
    "stop_at_frames = 1000"
   ]
  },
  {
   "cell_type": "code",
   "execution_count": 4,
   "metadata": {},
   "outputs": [
    {
     "name": "stdout",
     "output_type": "stream",
     "text": [
      "c:/Users/z004ktej/Desktop/d_projekty/bp/proj\\..\\mmyolo\\configs\\yolov8\\yolov8_s_syncbn_fast_8xb16-500e_coco_custom.py\n",
      "c:/Users/z004ktej/Desktop/d_projekty/bp/proj\\working_dir_yolov8\\epoch_8.pth\n"
     ]
    }
   ],
   "source": [
    "print(paths.model_config_filepath)\n",
    "print(paths.last_checkpoint_filepath)"
   ]
  },
  {
   "attachments": {},
   "cell_type": "markdown",
   "metadata": {},
   "source": [
    "Error `UserWarning: Class names are not saved in the checkpoint's meta data, use COCO classes by default.`\n",
    "can be ignored. Just now, even after receiving this error, images are annotated correctly with my classes."
   ]
  },
  {
   "cell_type": "code",
   "execution_count": 5,
   "metadata": {},
   "outputs": [
    {
     "name": "stderr",
     "output_type": "stream",
     "text": [
      "c:\\Users\\z004ktej\\AppData\\Local\\Programs\\Python\\Python310\\lib\\site-packages\\tqdm\\auto.py:22: TqdmWarning: IProgress not found. Please update jupyter and ipywidgets. See https://ipywidgets.readthedocs.io/en/stable/user_install.html\n",
      "  from .autonotebook import tqdm as notebook_tqdm\n"
     ]
    },
    {
     "name": "stdout",
     "output_type": "stream",
     "text": [
      "02/14 11:12:24 - mmengine - \u001b[5m\u001b[4m\u001b[33mWARNING\u001b[0m - The \"model\" registry in mmyolo did not set import location. Fallback to call `mmyolo.utils.register_all_modules` instead.\n",
      "02/14 11:12:25 - mmengine - \u001b[5m\u001b[4m\u001b[33mWARNING\u001b[0m - The \"model\" registry in mmdet did not set import location. Fallback to call `mmdet.utils.register_all_modules` instead.\n",
      "02/14 11:12:25 - mmengine - \u001b[5m\u001b[4m\u001b[33mWARNING\u001b[0m - The \"task util\" registry in mmyolo did not set import location. Fallback to call `mmyolo.utils.register_all_modules` instead.\n",
      "02/14 11:12:25 - mmengine - \u001b[5m\u001b[4m\u001b[33mWARNING\u001b[0m - The \"task util\" registry in mmdet did not set import location. Fallback to call `mmdet.utils.register_all_modules` instead.\n",
      "Loads checkpoint by local backend from path: c:/Users/z004ktej/Desktop/d_projekty/bp/proj\\working_dir_yolov8\\epoch_8.pth\n",
      "02/14 11:12:25 - mmengine - \u001b[5m\u001b[4m\u001b[33mWARNING\u001b[0m - The \"visualizer\" registry in mmyolo did not set import location. Fallback to call `mmyolo.utils.register_all_modules` instead.\n",
      "02/14 11:12:25 - mmengine - \u001b[5m\u001b[4m\u001b[33mWARNING\u001b[0m - The \"visualizer\" registry in mmdet did not set import location. Fallback to call `mmdet.utils.register_all_modules` instead.\n"
     ]
    },
    {
     "name": "stderr",
     "output_type": "stream",
     "text": [
      "c:\\users\\z004ktej\\desktop\\d_projekty\\bp\\mmengine\\mmengine\\visualization\\visualizer.py:163: UserWarning: `Visualizer` backend is not initialized because save_dir is None.\n",
      "  warnings.warn('`Visualizer` backend is not initialized '\n"
     ]
    },
    {
     "name": "stdout",
     "output_type": "stream",
     "text": [
      "02/14 11:12:25 - mmengine - \u001b[5m\u001b[4m\u001b[33mWARNING\u001b[0m - The \"transform\" registry in mmyolo did not set import location. Fallback to call `mmyolo.utils.register_all_modules` instead.\n",
      "02/14 11:12:25 - mmengine - \u001b[5m\u001b[4m\u001b[33mWARNING\u001b[0m - The \"transform\" registry in mmdet did not set import location. Fallback to call `mmdet.utils.register_all_modules` instead.\n"
     ]
    },
    {
     "name": "stderr",
     "output_type": "stream",
     "text": [
      "c:\\Users\\z004ktej\\AppData\\Local\\Programs\\Python\\Python310\\lib\\site-packages\\torch\\functional.py:504: UserWarning: torch.meshgrid: in an upcoming release, it will be required to pass the indexing argument. (Triggered internally at ..\\aten\\src\\ATen\\native\\TensorShape.cpp:3191.)\n",
      "  return _VF.meshgrid(tensors, **kwargs)  # type: ignore[attr-defined]\n"
     ]
    },
    {
     "name": "stdout",
     "output_type": "stream",
     "text": [
      "7\r"
     ]
    },
    {
     "name": "stderr",
     "output_type": "stream",
     "text": [
      "c:\\users\\z004ktej\\desktop\\d_projekty\\bp\\mmengine\\mmengine\\visualization\\visualizer.py:707: UserWarning: Warning: The bbox is out of bounds, the drawn bbox may not be in the image\n",
      "  warnings.warn(\n",
      "c:\\users\\z004ktej\\desktop\\d_projekty\\bp\\mmengine\\mmengine\\visualization\\visualizer.py:778: UserWarning: Warning: The polygon is out of bounds, the drawn polygon may not be in the image\n",
      "  warnings.warn(\n"
     ]
    },
    {
     "name": "stdout",
     "output_type": "stream",
     "text": [
      "Stop requested\n"
     ]
    }
   ],
   "source": [
    "import mmcv\n",
    "from mmdet.apis import init_detector, inference_detector\n",
    "\n",
    "# MMYolo integration\n",
    "from mmyolo.utils import register_all_modules\n",
    "from mmyolo.registry import VISUALIZERS\n",
    "register_all_modules()\n",
    "\n",
    "model = init_detector(paths.model_config_filepath, paths.last_checkpoint_filepath, device=device)\n",
    "\n",
    "visualizer = VISUALIZERS.build(model.cfg.visualizer)\n",
    "visualizer.dataset_meta[\"classes\"] = tuple(common.classes_ids.keys())\n",
    "\n",
    "# I wanted to use the original yolox config and just adjust the number of \n",
    "# classes and classes themselves here, but this strangely results in misdetections\n",
    "# when inferencing... So, in this script, it is necessary to use a custom config\n",
    "# where the number of classes is updated\n",
    "# model.bbox_head.num_classes = len(common.classes)\n",
    "\n",
    "video = mmcv.VideoReader(input_filename)\n",
    "\n",
    "frames_dir = os.path.join(paths.working_dirpath, frames_dirname)\n",
    "if not os.path.exists(frames_dir):\n",
    "    os.mkdir(frames_dir)\n",
    "\n",
    "counter = 0\n",
    "try:\n",
    "    for frame in video:\n",
    "        print(counter // step, end=\"\\r\")\n",
    "\n",
    "        if counter % step == 0:\n",
    "\n",
    "            out_filepath = os.path.join(frames_dir, str(counter // step).zfill(6) + \".jpg\")\n",
    "\n",
    "            frame = mmcv.imconvert(frame, \"bgr\", \"rgb\")\n",
    "\n",
    "            result = inference_detector(model, frame)\n",
    "\n",
    "            visualizer.add_datasample(\n",
    "                os.path.basename(out_filepath),\n",
    "                frame,\n",
    "                data_sample=result,\n",
    "                draw_gt=False,\n",
    "                show=False,\n",
    "                wait_time=0,\n",
    "                out_file=out_filepath,\n",
    "                pred_score_thr=score_thr\n",
    "            )\n",
    "\n",
    "            # Without mmyolo, this worked:\n",
    "            # if score_thr == 0:\n",
    "            #     model.show_result(frame, result, out_file=out_filepath)\n",
    "            # else:\n",
    "            #     model.show_result(frame, result, score_thr=score_thr, out_file=out_filepath)\n",
    "\n",
    "        counter += 1\n",
    "        if counter == stop_at_frames * step: # Doesn't stop if stop_at_frames == 0\n",
    "            raise KeyboardInterrupt\n",
    "\n",
    "except KeyboardInterrupt:\n",
    "    print(\"Stop requested\")"
   ]
  },
  {
   "cell_type": "code",
   "execution_count": 6,
   "metadata": {},
   "outputs": [
    {
     "name": "stdout",
     "output_type": "stream",
     "text": [
      "[>>>>>>>>>>>>>>>>>>>>>>>>>>>] 1000/1000, 70.4 task/s, elapsed: 14s, ETA:     0s\n"
     ]
    }
   ],
   "source": [
    "fps = input_fps // step\n",
    "mmcv.frames2video(frames_dir, os.path.join(paths.working_dirpath, output_filename), fps=fps)"
   ]
  }
 ],
 "metadata": {
  "kernelspec": {
   "display_name": "Python 3",
   "language": "python",
   "name": "python3"
  },
  "language_info": {
   "codemirror_mode": {
    "name": "ipython",
    "version": 3
   },
   "file_extension": ".py",
   "mimetype": "text/x-python",
   "name": "python",
   "nbconvert_exporter": "python",
   "pygments_lexer": "ipython3",
   "version": "3.10.9"
  },
  "orig_nbformat": 4,
  "vscode": {
   "interpreter": {
    "hash": "229fedebb1d7394cf57a31acf727fae7ea6323c87170158d2b4890534347897d"
   }
  }
 },
 "nbformat": 4,
 "nbformat_minor": 2
}
